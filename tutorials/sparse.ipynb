{
 "cells": [
  {
   "cell_type": "code",
   "execution_count": 1,
   "id": "6298f495-1689-4270-8cae-73a4314a6e86",
   "metadata": {},
   "outputs": [],
   "source": [
    "%matplotlib inline\n",
    "\n",
    "import os\n",
    "import sys\n",
    "import emcee\n",
    "import scipy\n",
    "import pandas as pd\n",
    "\n",
    "import numpy as np\n",
    "import seaborn as sns\n",
    "import matplotlib.pyplot as plt\n",
    "\n",
    "from ipywidgets import interact\n",
    "from functools import partial\n",
    "\n",
    "module_path = os.path.abspath(os.path.join('..'))\n",
    "if module_path not in sys.path:\n",
    "    sys.path.append(module_path)\n",
    "from tutorial_utils import *\n",
    "\n",
    "sns.set_style('darkgrid')\n",
    "\n",
    "%load_ext line_profiler"
   ]
  },
  {
   "cell_type": "code",
   "execution_count": 40,
   "id": "a2b91ec2",
   "metadata": {},
   "outputs": [],
   "source": [
    "import timeit\n",
    "\n",
    "def generate_timings(f):\n",
    "    cov_func = example_squared_exponential\n",
    "    for n in np.linspace(1000, 7000, 15):\n",
    "        n = round(n)\n",
    "        X, y = generate_training_data(n)\n",
    "        start_time = timeit.default_timer()\n",
    "        count = 0\n",
    "        while (timeit.default_timer() - start_time < 1. or\n",
    "               count < 3):\n",
    "            count = count + 1\n",
    "            f(cov_func, X, y, np.array([4]), meas_noise=0.1)\n",
    "        timing = (timeit.default_timer() - start_time) / count\n",
    "        print(f\"Timing with {n} measurements: {timing}\")\n",
    "        yield n, timing"
   ]
  },
  {
   "cell_type": "code",
   "execution_count": 41,
   "id": "5e6bbef3",
   "metadata": {},
   "outputs": [
    {
     "name": "stdout",
     "output_type": "stream",
     "text": [
      "Timing with 1000 measurements: 0.010966444260860875\n",
      "Timing with 1429 measurements: 0.029567415264489895\n",
      "Timing with 1857 measurements: 0.04599362995676612\n",
      "Timing with 2286 measurements: 0.07288611414177078\n",
      "Timing with 2714 measurements: 0.10996038090088404\n",
      "Timing with 3143 measurements: 0.14824125528269047\n",
      "Timing with 3571 measurements: 0.1923397748323623\n",
      "Timing with 4000 measurements: 0.24471876380266622\n",
      "Timing with 4429 measurements: 0.2895515627460554\n",
      "Timing with 4857 measurements: 0.3467779040026168\n",
      "Timing with 5286 measurements: 0.41685885600357625\n",
      "Timing with 5714 measurements: 0.4757849909947254\n",
      "Timing with 6143 measurements: 0.5608832183255194\n",
      "Timing with 6571 measurements: 0.679194415997093\n",
      "Timing with 7000 measurements: 0.7235571520092586\n"
     ]
    }
   ],
   "source": [
    "def build_cov(cov_func, X, y, x_test, meas_noise):\n",
    "    return cov_func(X, X)\n",
    "\n",
    "sizes, cov_times = zip(*generate_timings(build_cov))"
   ]
  },
  {
   "cell_type": "code",
   "execution_count": 42,
   "id": "b36bc9f9",
   "metadata": {},
   "outputs": [
    {
     "name": "stdout",
     "output_type": "stream",
     "text": [
      "Timing with 1000 measurements: 0.02210946413106285\n",
      "Timing with 1429 measurements: 0.058885927767465436\n",
      "Timing with 1857 measurements: 0.11529694611413611\n",
      "Timing with 2286 measurements: 0.21725487059447915\n",
      "Timing with 2714 measurements: 0.2985302717424929\n",
      "Timing with 3143 measurements: 0.426867347327061\n",
      "Timing with 3571 measurements: 0.5650588963374806\n",
      "Timing with 4000 measurements: 0.7753618666708159\n",
      "Timing with 4429 measurements: 0.8701273786718957\n",
      "Timing with 4857 measurements: 1.0803146850084886\n",
      "Timing with 5286 measurements: 1.3163710226654075\n",
      "Timing with 5714 measurements: 1.5871828566693391\n",
      "Timing with 6143 measurements: 1.9681410416766691\n",
      "Timing with 6571 measurements: 2.282145808004619\n",
      "Timing with 7000 measurements: 2.637045596668031\n"
     ]
    }
   ],
   "source": [
    "def do_fit(cov_func, X, y, x_test, meas_noise):\n",
    "    return example_fit(cov_func, X, y, meas_noise=meas_noise)\n",
    "\n",
    "sizes, fit_times = zip(*generate_timings(do_fit))"
   ]
  },
  {
   "cell_type": "code",
   "execution_count": 43,
   "id": "af453d16",
   "metadata": {},
   "outputs": [
    {
     "name": "stdout",
     "output_type": "stream",
     "text": [
      "Timing with 1000 measurements: 0.0014721378881778731\n",
      "Timing with 1429 measurements: 0.00414396594624874\n",
      "Timing with 1857 measurements: 0.006555671215489556\n",
      "Timing with 2286 measurements: 0.013066399168954896\n",
      "Timing with 2714 measurements: 0.017379782603178493\n",
      "Timing with 3143 measurements: 0.023161047250720334\n",
      "Timing with 3571 measurements: 0.02988518403007594\n",
      "Timing with 4000 measurements: 0.036652413462953906\n",
      "Timing with 4429 measurements: 0.04546626750115221\n",
      "Timing with 4857 measurements: 0.0542954765781025\n",
      "Timing with 5286 measurements: 0.06450207274974673\n",
      "Timing with 5714 measurements: 0.0783370606144532\n",
      "Timing with 6143 measurements: 0.08930013899710805\n",
      "Timing with 6571 measurements: 0.1003897029964719\n",
      "Timing with 7000 measurements: 0.11401577388945346\n"
     ]
    }
   ],
   "source": [
    "\n",
    "dummy_L = np.tril(np.random.normal(size=(10000, 10000)))\n",
    "\n",
    "def do_predict(cov_func, X, y, x_test, meas_noise):\n",
    "    dummy_fit = {\n",
    "        \"train_locations\": X,\n",
    "        \"information\": y,\n",
    "        \"cholesky\": dummy_L[:y.size,:y.size],\n",
    "        \"cov_func\": cov_func\n",
    "    }\n",
    "\n",
    "    return example_predict(dummy_fit, x_test)\n",
    "\n",
    "sizes, predict_times = zip(*generate_timings(do_predict))"
   ]
  },
  {
   "cell_type": "code",
   "execution_count": 50,
   "id": "62e1067f",
   "metadata": {
    "scrolled": false
   },
   "outputs": [
    {
     "data": {
      "text/plain": [
       "<matplotlib.legend.Legend at 0x14f76336d0a0>"
      ]
     },
     "execution_count": 50,
     "metadata": {},
     "output_type": "execute_result"
    },
    {
     "data": {
      "image/png": "[encoded data removed]",
      "text/plain": [
       "<Figure size 900x600 with 1 Axes>"
      ]
     },
     "metadata": {},
     "output_type": "display_data"
    }
   ],
   "source": [
    "solve_times = np.array(fit_times) - cov_times\n",
    "\n",
    "plt.plot(sizes, solve_times, label=\"solve\")\n",
    "plt.plot(sizes, cov_times, label=\"cov eval\")\n",
    "plt.plot(sizes, predict_times, label=\"predict\")\n",
    "plt.legend()"
   ]
  },
  {
   "cell_type": "markdown",
   "id": "0e3adb41",
   "metadata": {},
   "source": [
    "As you can see, the time required for the solve quickly exceeds the covariance matrix construction and the prediction times. This bottleneck is what prevents dense Gaussian processes from being a viable model for moderate sized datasets, let alone large ones. Thankfully there are a number of options for acclerating these steps, though each comes with some tradeoffs. Here we're going to focus on sparse Gaussian processes, which use a set of \"inducing points\" to capture the information in the data. If the number of required inducing points is much smaller than the number of measurements the computation savings are significant."
   ]
  },
  {
   "cell_type": "code",
   "execution_count": null,
   "id": "e5ea9784",
   "metadata": {},
   "outputs": [],
   "source": []
  }
 ],
 "metadata": {
  "kernelspec": {
   "display_name": "Python 3 (ipykernel)",
   "language": "python",
   "name": "python3"
  },
  "language_info": {
   "codemirror_mode": {
    "name": "ipython",
    "version": 3
   },
   "file_extension": ".py",
   "mimetype": "text/x-python",
   "name": "python",
   "nbconvert_exporter": "python",
   "pygments_lexer": "ipython3",
   "version": "3.8.18"
  }
 },
 "nbformat": 4,
 "nbformat_minor": 5
}
