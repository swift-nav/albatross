{
 "cells": [
  {
   "cell_type": "code",
   "execution_count": 1,
   "id": "6298f495-1689-4270-8cae-73a4314a6e86",
   "metadata": {},
   "outputs": [],
   "source": [
    "%matplotlib inline\n",
    "\n",
    "import os\n",
    "import sys\n",
    "import emcee\n",
    "import scipy\n",
    "import pandas as pd\n",
    "\n",
    "import numpy as np\n",
    "import seaborn as sns\n",
    "import matplotlib.pyplot as plt\n",
    "\n",
    "from ipywidgets import interact\n",
    "from functools import partial\n",
    "\n",
    "module_path = os.path.abspath(os.path.join('..'))\n",
    "if module_path not in sys.path:\n",
    "    sys.path.append(module_path)\n",
    "from tutorial_utils import *\n",
    "\n",
    "sns.set_style('darkgrid')\n",
    "\n",
    "%load_ext line_profiler"
   ]
  },
  {
   "cell_type": "markdown",
   "id": "590906b9",
   "metadata": {},
   "source": [
    "# Bayesian Inference"
   ]
  },
  {
   "cell_type": "code",
   "execution_count": null,
   "id": "3793bea6",
   "metadata": {},
   "outputs": [],
   "source": [
    "import emcee\n",
    "ndim, nwalkers = 3, 200\n",
    "ivar = 1. / np.random.rand(ndim)\n",
    "p0 = np.random.uniform(size=(nwalkers, ndim))\n",
    "\n",
    "def log_prob(params):\n",
    "    sigma, ell, meas_noise = np.exp(params)\n",
    "    cov_func = partial(squared_exponential, ell=ell, sigma=sigma)\n",
    "    return log_likelihood(cov_func, X, y, meas_noise=meas_noise)\n",
    "\n",
    "sampler = emcee.EnsembleSampler(nwalkers, ndim, log_prob)\n",
    "sampler_output = sampler.run_mcmc(p0, 2000)"
   ]
  },
  {
   "cell_type": "code",
   "execution_count": null,
   "id": "2573d438",
   "metadata": {
    "scrolled": false
   },
   "outputs": [],
   "source": [
    "posterior_params = np.exp(sampler_output[0])\n",
    "df = pd.DataFrame(posterior_params, columns=['sigma', 'ell', 'noise'])\n",
    "sns.pairplot(df)"
   ]
  },
  {
   "cell_type": "code",
   "execution_count": null,
   "id": "b2fb95bb",
   "metadata": {},
   "outputs": [],
   "source": [
    "def draw_bayesian_sample():\n",
    "    random_int = np.random.randint(0, posterior_params.shape[0])\n",
    "    random_params = posterior_params[random_int]\n",
    "    cov_func = partial(squared_exponential, ell=random_params[1], sigma=random_params[0])\n",
    "    pred_mean, pred_cov = fit_and_predict(cov_func, X, y, x_gridded, meas_noise=random_params[2])\n",
    "    return sample_from(pred_mean, pred_cov, size=1)[:, 0]\n",
    "\n",
    "samples = np.array([draw_bayesian_sample() for i in range(1000)])\n",
    "\n",
    "bayesian_mean = np.mean(samples, axis=0)\n",
    "bayesian_sd = np.sqrt(np.var(samples, axis=0))\n",
    "\n",
    "#for sample in samples:\n",
    "#    plt.plot(x_gridded, sample, color=\"steelblue\", alpha=0.5)\n",
    "        "
   ]
  },
  {
   "cell_type": "code",
   "execution_count": null,
   "id": "66609dd6",
   "metadata": {},
   "outputs": [],
   "source": [
    "plot_truth()\n",
    "plot_measurements()\n",
    "\n",
    "plt.plot(x_gridded, bayesian_mean, lw=5, color='forestgreen', label=\"prediction\")\n",
    "plt.fill_between(x_gridded, bayesian_mean + bayesian_sd,\n",
    "                 bayesian_mean - bayesian_sd,\n",
    "                 color='forestgreen', label=\"prediction\", alpha=0.3)\n",
    "\n",
    "cov_func = partial(squared_exponential, ell=mle_ell, sigma=mle_sigma)\n",
    "mle_mean, mle_cov = fit_and_predict(cov_func, X, y, x_gridded, meas_noise=mle_meas_noise)\n",
    "mle_sd = np.sqrt(np.diag(mle_cov))\n",
    "plt.plot(x_gridded, mle_mean, lw=5, color='steelblue', label=\"prediction\")\n",
    "plt.fill_between(x_gridded, mle_mean + mle_sd,\n",
    "                 mle_mean - mle_sd,\n",
    "                 alpha=0.3,\n",
    "                 color='steelblue', label=\"prediction\")\n",
    "\n",
    "plt.ylim([-1, 5])"
   ]
  },
  {
   "cell_type": "code",
   "execution_count": null,
   "id": "275821a2",
   "metadata": {},
   "outputs": [],
   "source": [
    "plot_fit_and_predict(mle_ell, mle_sigma, mle_meas_noise)"
   ]
  },
  {
   "cell_type": "code",
   "execution_count": null,
   "id": "92036286",
   "metadata": {},
   "outputs": [],
   "source": [
    "import timeit\n",
    "\n",
    "def generate_timings():\n",
    "    for n in np.linspace(np.log10(1000), np.log10(8000), 11):\n",
    "        n = round(n)\n",
    "        xs = np.random.normal(size=n)\n",
    "        ys = xs + np.random.normal(size=n)\n",
    "        start_time = timeit.default_timer()\n",
    "        count = 0\n",
    "        while timeit.default_timer() - start_time < 10.:\n",
    "            count = count + 1\n",
    "            fit_and_predict(cov_func, xs, ys, np.array([4]), meas_noise=0.1)\n",
    "        yield n, (timeit.default_timer() - start_time) / count\n",
    "\n",
    "#sizes, times = zip(*generate_timings())\n",
    "plt.plot(sizes, times, marker=\".\")\n",
    "plt.xlabel(\"Number of Measurements\")\n",
    "plt.ylabel(\"Fit / Predict time [seconds]\")"
   ]
  },
  {
   "cell_type": "code",
   "execution_count": null,
   "id": "cca65a4d",
   "metadata": {},
   "outputs": [],
   "source": []
  }
 ],
 "metadata": {
  "kernelspec": {
   "display_name": "Python 3 (ipykernel)",
   "language": "python",
   "name": "python3"
  },
  "language_info": {
   "codemirror_mode": {
    "name": "ipython",
    "version": 3
   },
   "file_extension": ".py",
   "mimetype": "text/x-python",
   "name": "python",
   "nbconvert_exporter": "python",
   "pygments_lexer": "ipython3",
   "version": "3.8.18"
  }
 },
 "nbformat": 4,
 "nbformat_minor": 5
}
